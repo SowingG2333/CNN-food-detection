{
 "cells": [
  {
   "cell_type": "code",
   "execution_count": null,
   "metadata": {},
   "outputs": [],
   "source": [
    "'''\n",
    "划分数据集\n",
    "'''\n",
    "import os\n",
    "import shutil\n",
    "import random\n",
    "\n",
    "# 定义路径\n",
    "images_path = \"data/images\"  # 图片路径\n",
    "labels_path = \"data/labels\"      # 标签路径\n",
    "output_path = \"data\"            # 输出文件夹路径\n",
    "\n",
    "# 数据划分比例\n",
    "train_ratio = 0.8\n",
    "val_ratio = 0.1\n",
    "\n",
    "# 创建目标文件夹\n",
    "for folder in [\"images/train\", \"images/val\", \"images/test\",\n",
    "               \"labels/train\", \"labels/val\", \"labels/test\"]:\n",
    "    os.makedirs(os.path.join(output_path, folder), exist_ok=True)\n",
    "\n",
    "# 获取所有图片文件\n",
    "images = [f for f in os.listdir(images_path) if f.endswith(\".jpg\")]\n",
    "random.shuffle(images)\n",
    "\n",
    "# 划分数据集\n",
    "train_cutoff = int(len(images) * train_ratio)\n",
    "val_cutoff = train_cutoff + int(len(images) * val_ratio)\n",
    "\n",
    "train_images = images[:train_cutoff]\n",
    "val_images = images[train_cutoff:val_cutoff]\n",
    "test_images = images[val_cutoff:]\n",
    "\n",
    "# 复制图片和标签文件\n",
    "for dataset, dataset_images in zip([\"train\", \"val\", \"test\"], [train_images, val_images, test_images]):\n",
    "    for image in dataset_images:\n",
    "        base_name = os.path.splitext(image)[0]\n",
    "        \n",
    "        # 图片路径\n",
    "        src_image_path = os.path.join(images_path, image)\n",
    "        dest_image_path = os.path.join(output_path, f\"dividedJPEGImages/{dataset}\", image)\n",
    "        \n",
    "        # 标签路径\n",
    "        label_file = f\"{base_name}.txt\"\n",
    "        src_label_path = os.path.join(labels_path, label_file)\n",
    "        dest_label_path = os.path.join(output_path, f\"dividedLabels/{dataset}\", label_file)\n",
    "        \n",
    "        # 检查并复制图片\n",
    "        if os.path.exists(src_image_path):\n",
    "            shutil.copy(src_image_path, dest_image_path)\n",
    "        else:\n",
    "            print(f\"Warning: Image not found - {src_image_path}\")\n",
    "        \n",
    "        # 检查并复制标签\n",
    "        if os.path.exists(src_label_path):\n",
    "            shutil.copy(src_label_path, dest_label_path)\n",
    "        else:\n",
    "            print(f\"Warning: Label not found - {src_label_path}\")\n"
   ]
  },
  {
   "cell_type": "code",
   "execution_count": null,
   "metadata": {},
   "outputs": [
    {
     "name": "stdout",
     "output_type": "stream",
     "text": [
      "All images have corresponding labels.\n"
     ]
    }
   ],
   "source": [
    "'''\n",
    "检查yolo文件与图片是否一一对应\n",
    "'''\n",
    "import os\n",
    "\n",
    "image_folder = \"/Users/sowingg/CNN-food-detection/data/images/train\"\n",
    "label_folder = \"/Users/sowingg/CNN-food-detection/data/images/train\"\n",
    "\n",
    "image_files = [os.path.splitext(f)[0] for f in os.listdir(image_folder) if f.endswith(\".jpg\")]\n",
    "label_files = [os.path.splitext(f)[0] for f in os.listdir(label_folder) if f.endswith(\".txt\")]\n",
    "\n",
    "missing_labels = set(image_files) - set(label_files)\n",
    "if missing_labels:\n",
    "    print(\"Missing labels for images:\", missing_labels)\n",
    "else:\n",
    "    print(\"All images have corresponding labels.\")"
   ]
  },
  {
   "cell_type": "code",
   "execution_count": null,
   "metadata": {},
   "outputs": [
    {
     "name": "stdout",
     "output_type": "stream",
     "text": [
      "Invalid label files: ['people(2086).txt']\n"
     ]
    }
   ],
   "source": [
    "'''\n",
    "检查不符合规范的yolo文件\n",
    "'''\n",
    "import os\n",
    "\n",
    "labels_dir = \"/Users/sowingg/CNN-food-detection/data/images/train\"\n",
    "invalid_labels = []\n",
    "\n",
    "for label_file in os.listdir(labels_dir):\n",
    "    if label_file.endswith(\".txt\"):\n",
    "        path = os.path.join(labels_dir, label_file)\n",
    "        with open(path, \"r\") as f:\n",
    "            lines = f.readlines()\n",
    "            for line in lines:\n",
    "                parts = line.strip().split()\n",
    "                if len(parts) != 5:  # 每行应该有5个值\n",
    "                    invalid_labels.append(label_file)\n",
    "                else:\n",
    "                    class_id, x, y, w, h = parts\n",
    "                    if not (0 <= float(x) <= 1 and 0 <= float(y) <= 1 and 0 <= float(w) <= 1 and 0 <= float(h) <= 1):\n",
    "                        invalid_labels.append(label_file)\n",
    "\n",
    "if invalid_labels:\n",
    "    print(\"Invalid label files:\", invalid_labels)\n",
    "else:\n",
    "    print(\"All label files are valid.\")"
   ]
  }
 ],
 "metadata": {
  "kernelspec": {
   "display_name": "py39",
   "language": "python",
   "name": "python3"
  },
  "language_info": {
   "codemirror_mode": {
    "name": "ipython",
    "version": 3
   },
   "file_extension": ".py",
   "mimetype": "text/x-python",
   "name": "python",
   "nbconvert_exporter": "python",
   "pygments_lexer": "ipython3",
   "version": "3.9.19"
  }
 },
 "nbformat": 4,
 "nbformat_minor": 2
}
